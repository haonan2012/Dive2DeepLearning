{
  "nbformat": 4,
  "nbformat_minor": 0,
  "metadata": {
    "colab": {
      "provenance": [],
      "authorship_tag": "ABX9TyMTs/S0mimRea7472wqxHkf",
      "include_colab_link": true
    },
    "kernelspec": {
      "name": "python3",
      "display_name": "Python 3"
    },
    "language_info": {
      "name": "python"
    }
  },
  "cells": [
    {
      "cell_type": "markdown",
      "metadata": {
        "id": "view-in-github",
        "colab_type": "text"
      },
      "source": [
        "<a href=\"https://colab.research.google.com/github/haonan2012/Dive2DeepLearning/blob/master/1_LinearRegression_scratch.ipynb\" target=\"_parent\"><img src=\"https://colab.research.google.com/assets/colab-badge.svg\" alt=\"Open In Colab\"/></a>"
      ]
    },
    {
      "cell_type": "markdown",
      "source": [
        "# Utilities"
      ],
      "metadata": {
        "id": "QuOEDAYMOGpo"
      }
    },
    {
      "cell_type": "code",
      "source": [
        "def add_to_class(Class):\n",
        "  \"\"\"Register functions as methods in created class.\"\"\"\n",
        "  def wrapper(obj):\n",
        "    setattr(Class, obj.__name__, obj)\n",
        "  return wrapper"
      ],
      "metadata": {
        "id": "0LGsvc71OJ28"
      },
      "execution_count": null,
      "outputs": []
    },
    {
      "cell_type": "code",
      "source": [
        "import inspect\n",
        "\n",
        "class HyperParameters:\n",
        "  \"\"\"The base class of hyperparameters.\"\"\"\n",
        "  def save_hyperparameters(self, ignore=[]):\n",
        "    \"\"\"Save function arguments into class attributes.\"\"\"\n",
        "    frame = inspect.currentframe().f_back\n",
        "    _, _, _, local_vars = inspect.getargvalues(frame)\n",
        "    self.hparams = {k:v for k, v in local_vars.items()\n",
        "            if k not in set(ignore+['self']) and not k.startswith('_')}\n",
        "    for k, v in self.hparams.items():\n",
        "      setattr(self, k, v)"
      ],
      "metadata": {
        "id": "tXU9kt0AViGy"
      },
      "execution_count": null,
      "outputs": []
    },
    {
      "cell_type": "code",
      "source": [
        "import collections\n",
        "class ProgressBoard(HyperParameters):\n",
        "  \"\"\"The board that plots data points in animation.\"\"\"\n",
        "  def __init__(self, xlabel=None, ylabel=None, xlim=None,\n",
        "        ylim=None, xscale='linear', yscale='linear',\n",
        "        ls=['-', '--', '-.', ':'], colors=['C0', 'C1', 'C2', 'C3'],\n",
        "        fig=None, axes=None, figsize=(3.5, 2.5), display=True):\n",
        "    self.save_hyperparameters()\n",
        "  def draw(self, x, y, label, every_n=1):\n",
        "    Point = collections.namedtuple('Point', ['x', 'y'])\n",
        "    if not hasattr(self, 'raw_points'):\n",
        "      self.raw_points = collections.OrderedDict()\n",
        "      self.data = collections.OrderedDict()\n",
        "    if label not in self.raw_points:\n",
        "      self.raw_points[label] = []\n",
        "      self.data[label] = []\n",
        "    points = self.raw_points[label]\n",
        "    line = self.data[label]\n",
        "    points.append(Point(x, y))\n",
        "    if len(points) != every_n:\n",
        "      return\n",
        "    mean = lambda x: sum(x) / len(x)\n",
        "    line.append(Point(mean([p.x for p in points]),\n",
        "            mean([p.y for p in points])))\n",
        "    points.clear()\n",
        "    if not self.display:\n",
        "      return\n",
        "    d2l.use_svg_display()\n",
        "    if self.fig is None:\n",
        "      self.fig = d2l.plt.figure(figsize=self.figsize)\n",
        "    plt_lines, labels = [], []\n",
        "    for (k, v), ls, color in zip(self.data.items(), self.ls, self.colors):\n",
        "      plt_lines.append(d2l.plt.plot([p.x for p in v], [p.y for p in v],\n",
        "        linestyle=ls, color=color)[0])\n",
        "      labels.append(k)\n",
        "    axes = self.axes if self.axes else d2l.plt.gca()\n",
        "    if self.xlim: axes.set_xlim(self.xlim)\n",
        "    if self.ylim: axes.set_ylim(self.ylim)\n",
        "    if not self.xlabel: self.xlabel = self.x\n",
        "    axes.set_xlabel(self.xlabel)\n",
        "    axes.set_ylabel(self.ylabel)\n",
        "    axes.set_xscale(self.xscale)\n",
        "    axes.set_yscale(self.yscale)\n",
        "    axes.legend(plt_lines, labels)\n",
        "    display.display(self.fig)\n",
        "    display.clear_output(wait=True)"
      ],
      "metadata": {
        "id": "koda_kySW6FU"
      },
      "execution_count": null,
      "outputs": []
    }
  ]
}